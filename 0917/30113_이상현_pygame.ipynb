{
 "cells": [
  {
   "cell_type": "code",
   "execution_count": 2,
   "metadata": {},
   "outputs": [
    {
     "name": "stdout",
     "output_type": "stream",
     "text": [
      "Requirement already satisfied: pygame in c:\\users\\user\\anaconda3\\lib\\site-packages (1.9.6)\n",
      "Note: you may need to restart the kernel to use updated packages.\n"
     ]
    }
   ],
   "source": [
    "pip install pygame"
   ]
  },
  {
   "cell_type": "code",
   "execution_count": 7,
   "metadata": {},
   "outputs": [],
   "source": [
    "import sys\n",
    "import pygame\n",
    "from pygame.locals import QUIT, KEYDOWN, K_LEFT, K_RIGHT, K_UP, K_DOWN\n",
    "pygame.init()\n",
    "pygame.key.set_repeat(5,5)"
   ]
  },
  {
   "cell_type": "code",
   "execution_count": null,
   "metadata": {},
   "outputs": [],
   "source": [
    "SURFACE = pygame.display.set_mode((800,600))\n",
    "pygame.display.set_caption('Game Window')\n",
    "\n",
    "def main():\n",
    "    logo = pygame.image.load('pygame_logo.png')\n",
    "    pos = [200,150]\n",
    "    while True:\n",
    "        SURFACE.fill((255,255,255))\n",
    "    \n",
    "        for event in pygame.event.get():\n",
    "        \n",
    "            if event.type == QUIT:\n",
    "                pygame.quit()\n",
    "                sys.exit()\n",
    "            \n",
    "            elif event.type == KEYDOWN:\n",
    "                if event.key == K_LEFT:\n",
    "                    pos[0] -= 5\n",
    "                elif event.key == K_RIGHT:\n",
    "                    pos[0] += 5\n",
    "                elif event.key == K_UP:\n",
    "                    pos[1] -= 5\n",
    "                elif event.key == K_DOWN:\n",
    "                    pos[1] += 5\n",
    "        pos[0] = pos[0] % 800\n",
    "        pos[1] = pos[1] % 600\n",
    "    \n",
    "        SURFACE.fill((225,225,255))\n",
    "    \n",
    "        rect = logo.get_rect()\n",
    "        rect.center = pos\n",
    "    \n",
    "        SURFACE.blit(logo,rect)\n",
    "    \n",
    "        pygame.display.update()\n",
    "        \n",
    "if __name__=='__main__':\n",
    "    main()"
   ]
  }
 ],
 "metadata": {
  "kernelspec": {
   "display_name": "Python 3",
   "language": "python",
   "name": "python3"
  },
  "language_info": {
   "codemirror_mode": {
    "name": "ipython",
    "version": 3
   },
   "file_extension": ".py",
   "mimetype": "text/x-python",
   "name": "python",
   "nbconvert_exporter": "python",
   "pygments_lexer": "ipython3",
   "version": "3.7.4"
  }
 },
 "nbformat": 4,
 "nbformat_minor": 2
}
