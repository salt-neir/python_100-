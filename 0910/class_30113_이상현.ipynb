{
 "cells": [
  {
   "cell_type": "code",
   "execution_count": 2,
   "metadata": {},
   "outputs": [
    {
     "data": {
      "text/plain": [
       "list"
      ]
     },
     "execution_count": 2,
     "metadata": {},
     "output_type": "execute_result"
    }
   ],
   "source": [
    "a = [1,2,3,4,5]\n",
    "type(a)"
   ]
  },
  {
   "cell_type": "code",
   "execution_count": 10,
   "metadata": {},
   "outputs": [],
   "source": [
    "a.append(100)"
   ]
  },
  {
   "cell_type": "code",
   "execution_count": 12,
   "metadata": {},
   "outputs": [],
   "source": [
    "a.remove(100)"
   ]
  },
  {
   "cell_type": "code",
   "execution_count": 13,
   "metadata": {},
   "outputs": [
    {
     "data": {
      "text/plain": [
       "[1, 2, 3, 4, 5]"
      ]
     },
     "execution_count": 13,
     "metadata": {},
     "output_type": "execute_result"
    }
   ],
   "source": [
    "a"
   ]
  },
  {
   "cell_type": "code",
   "execution_count": 15,
   "metadata": {},
   "outputs": [],
   "source": [
    "def test_1():\n",
    "    pass\n",
    "def tesxt_2():\n",
    "    pass"
   ]
  },
  {
   "cell_type": "code",
   "execution_count": 16,
   "metadata": {},
   "outputs": [],
   "source": [
    "a = [1,2,3,4,5]\n",
    "b = (1,2,3)"
   ]
  },
  {
   "cell_type": "code",
   "execution_count": 17,
   "metadata": {},
   "outputs": [
    {
     "data": {
      "text/plain": [
       "[1, 100, 3, 4, 5]"
      ]
     },
     "execution_count": 17,
     "metadata": {},
     "output_type": "execute_result"
    }
   ],
   "source": [
    "a[1]=100\n",
    "a"
   ]
  },
  {
   "cell_type": "code",
   "execution_count": 18,
   "metadata": {},
   "outputs": [],
   "source": [
    "#b[1]=100\n",
    "c = list(b)"
   ]
  },
  {
   "cell_type": "code",
   "execution_count": 20,
   "metadata": {},
   "outputs": [
    {
     "data": {
      "text/plain": [
       "[1, 2, 3]"
      ]
     },
     "execution_count": 20,
     "metadata": {},
     "output_type": "execute_result"
    }
   ],
   "source": [
    "c"
   ]
  },
  {
   "cell_type": "code",
   "execution_count": 42,
   "metadata": {},
   "outputs": [],
   "source": [
    "class person() :\n",
    "    def __init__(self, name, age=19):\n",
    "        #print(self, 'Good')\n",
    "        self.name = name\n",
    "        self.age = age\n",
    "        print('당신의 이름 : ', self.name)\n",
    "        print('당신의 나이 : ', self.age)"
   ]
  },
  {
   "cell_type": "code",
   "execution_count": 45,
   "metadata": {},
   "outputs": [
    {
     "name": "stdout",
     "output_type": "stream",
     "text": [
      "당신의 이름 :  김덕민\n",
      "당신의 나이 :  19\n"
     ]
    },
    {
     "data": {
      "text/plain": [
       "'김덕민'"
      ]
     },
     "execution_count": 45,
     "metadata": {},
     "output_type": "execute_result"
    }
   ],
   "source": [
    "p1 = person('김덕민',)\n",
    "p1.name"
   ]
  },
  {
   "cell_type": "code",
   "execution_count": 44,
   "metadata": {},
   "outputs": [
    {
     "name": "stdout",
     "output_type": "stream",
     "text": [
      "당신의 이름 :  김강토\n",
      "당신의 나이 :  19\n"
     ]
    }
   ],
   "source": [
    "p2 = person('김강토',)"
   ]
  },
  {
   "cell_type": "code",
   "execution_count": 46,
   "metadata": {},
   "outputs": [
    {
     "name": "stdout",
     "output_type": "stream",
     "text": [
      "당신의 이름 :  상현\n",
      "당신의 나이 :  19\n",
      "이상현\n"
     ]
    }
   ],
   "source": [
    "p3 = person('상현',)\n",
    "p3.name = '이상현'\n",
    "print(p3.name)"
   ]
  },
  {
   "cell_type": "code",
   "execution_count": 72,
   "metadata": {},
   "outputs": [],
   "source": [
    "class person() :\n",
    "    def __init__(self, name, age='19', min=100):\n",
    "        #print(self, 'Good')\n",
    "        self.name = name\n",
    "        self.age = age\n",
    "        self.min = min\n",
    "        \n",
    "    def sleep(self):\n",
    "        print('{}(이)가 {}분 동안 잠을 잤다'.format(self.name, self.min))"
   ]
  },
  {
   "cell_type": "code",
   "execution_count": 73,
   "metadata": {},
   "outputs": [
    {
     "name": "stdout",
     "output_type": "stream",
     "text": [
      "더덕(이)가 100분 동안 잠을 잤다\n"
     ]
    }
   ],
   "source": [
    "p4 = person('더덕',)\n",
    "p4.sleep()"
   ]
  },
  {
   "cell_type": "code",
   "execution_count": 75,
   "metadata": {},
   "outputs": [],
   "source": [
    "class person() :\n",
    "    def __init__(self, name, age='19', min=1440, game='무지개여섯공성전'):\n",
    "        #print(self, 'Good')\n",
    "        self.name = name\n",
    "        self.age = age\n",
    "        self.min = min\n",
    "        self.game = game\n",
    "        \n",
    "    def games(self):\n",
    "        print('{}(이)가 {}게임을 {}분 동안 플레이 했다'.format(self.name, self.game, self.min))"
   ]
  },
  {
   "cell_type": "code",
   "execution_count": 76,
   "metadata": {},
   "outputs": [
    {
     "name": "stdout",
     "output_type": "stream",
     "text": [
      "더덕(이)가 무지개여섯공성전게임을 1440분 동안 플레이 했다\n"
     ]
    }
   ],
   "source": [
    "p5 = person('더덕',)\n",
    "p5.games()"
   ]
  },
  {
   "cell_type": "code",
   "execution_count": 217,
   "metadata": {},
   "outputs": [],
   "source": [
    "class counter() :\n",
    "    def __init__(self, num=0):\n",
    "        self.num = num\n",
    "    def inc(self):\n",
    "        self.num = self.num+1\n",
    "    def reset(self):\n",
    "        self.num = 0\n",
    "    def print_cnt(self):\n",
    "        print('현재 num 값은 {}이다.'.format(self.num))"
   ]
  },
  {
   "cell_type": "code",
   "execution_count": 218,
   "metadata": {},
   "outputs": [],
   "source": [
    "a = counter()"
   ]
  },
  {
   "cell_type": "code",
   "execution_count": 224,
   "metadata": {},
   "outputs": [],
   "source": [
    "a.inc()"
   ]
  },
  {
   "cell_type": "code",
   "execution_count": 226,
   "metadata": {},
   "outputs": [],
   "source": [
    "a.reset()"
   ]
  },
  {
   "cell_type": "code",
   "execution_count": 228,
   "metadata": {},
   "outputs": [
    {
     "name": "stdout",
     "output_type": "stream",
     "text": [
      "현재 num 값은 0이다.\n"
     ]
    }
   ],
   "source": [
    "a.print_cnt()"
   ]
  },
  {
   "cell_type": "code",
   "execution_count": 273,
   "metadata": {},
   "outputs": [],
   "source": [
    "class person() :\n",
    "    def __init__(self, name):\n",
    "        #print(self, 'Good')\n",
    "        self.name = name\n",
    "        \n",
    "    def eat(self, food):\n",
    "        print('{}가 {}을 잘 쳐먹는다'.format(self.name, food))\n",
    "        \n",
    "    def go(self, job):\n",
    "        print('{}가 졸업하여 {}에 다닌다.'.format(self.name, job))\n",
    "        \n",
    "    def sleep(self, min):\n",
    "        print('{}(이)가 {}분 동안 잠을 잤다'.format(self.name, min))\n",
    "        \n",
    "    def games(self, hour):\n",
    "        print('{}(이)가 무지개여섯공성전게임을 {}시간 동안 플레이 했다'.format(self.name, self.hour))\n",
    "        \n",
    "class student(person):\n",
    "    def sleep(self, min):\n",
    "        super().sleep(min)\n",
    "        print('{}(이)가 {}분 동안 잠을 자서 날밤을 샜다'.format(self.name, min))\n"
   ]
  },
  {
   "cell_type": "code",
   "execution_count": 236,
   "metadata": {},
   "outputs": [
    {
     "name": "stdout",
     "output_type": "stream",
     "text": [
      "소금이가 물을 잘 쳐먹는다\n",
      "소금이가 졸업하여 바다에 다닌다.\n"
     ]
    }
   ],
   "source": [
    "p6 = person('소금이')\n",
    "p6.eat('물')\n",
    "p6.go('바다')"
   ]
  },
  {
   "cell_type": "code",
   "execution_count": 274,
   "metadata": {},
   "outputs": [
    {
     "name": "stdout",
     "output_type": "stream",
     "text": [
      "더덕(이)가 1440분 동안 잠을 잤다\n",
      "더덕(이)가 1440분 동안 잠을 자서 날밤을 샜다\n"
     ]
    }
   ],
   "source": [
    "p6 = student('더덕')\n",
    "p6.sleep(1440)"
   ]
  },
  {
   "cell_type": "code",
   "execution_count": null,
   "metadata": {},
   "outputs": [],
   "source": [
    "class discord() :\n",
    "    def __init__(self,age,food,deok):\n",
    "        print(self,\"ok\")\n",
    "        self.age = age\n",
    "        self.food = food\n",
    "        self.deok = deok\n",
    "    def deodeok(self)\n",
    "        "
   ]
  },
  {
   "cell_type": "code",
   "execution_count": 275,
   "metadata": {},
   "outputs": [],
   "source": [
    "class person() :\n",
    "    def __init__(self, name):\n",
    "        #print(self, 'Good')\n",
    "        self.name = name\n",
    "        \n",
    "    def eat(self, food):\n",
    "        print('{}가 {}을 잘 쳐먹는다'.format(self.name, food))\n",
    "        \n",
    "    def go(self, job):\n",
    "        print('{}(이)가 졸업하여 {}에 다닌다.'.format(self.name, job))\n",
    "        \n",
    "    def sleep(self, min):\n",
    "        print('{}(이)가 {}분 동안 잠을 잤다'.format(self.name, min))\n",
    "        \n",
    "    def games(self, hour):\n",
    "        print('{}(이)가 무지개여섯공성전게임을 {}시간 동안 플레이 했다'.format(self.name, self.hour))\n",
    "        \n",
    "class student(person):\n",
    "    def sleep(self, min):\n",
    "        super().sleep(min)\n",
    "        print('{}(이)가 {}분 동안 잠을 자서 날밤을 샜다'.format(self.name, min))\n",
    "\n",
    "class Employee(person):\n",
    "    def go(self, job):\n",
    "        super().go(job)\n",
    "        print('{}(이)가 {}를 졸업하여 삼성에 취업했다'.format(self.name, job))"
   ]
  },
  {
   "cell_type": "code",
   "execution_count": 278,
   "metadata": {},
   "outputs": [
    {
     "name": "stdout",
     "output_type": "stream",
     "text": [
      "더덕가 졸업하여 인하대에 다닌다.\n",
      "더덕가 인하대를 졸업하여 삼성에 취업했다\n"
     ]
    }
   ],
   "source": [
    "p7=Employee('더덕')\n",
    "p7.go('인하대')"
   ]
  }
 ],
 "metadata": {
  "kernelspec": {
   "display_name": "Python 3",
   "language": "python",
   "name": "python3"
  },
  "language_info": {
   "codemirror_mode": {
    "name": "ipython",
    "version": 3
   },
   "file_extension": ".py",
   "mimetype": "text/x-python",
   "name": "python",
   "nbconvert_exporter": "python",
   "pygments_lexer": "ipython3",
   "version": "3.7.4"
  }
 },
 "nbformat": 4,
 "nbformat_minor": 4
}
